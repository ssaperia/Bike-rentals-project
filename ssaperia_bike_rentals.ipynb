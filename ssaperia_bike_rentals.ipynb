{
 "cells": [
  {
   "cell_type": "markdown",
   "metadata": {
    "jupyter": {
     "outputs_hidden": false
    }
   },
   "source": [
    "### Guided Project Predicting Bike Rentals"
   ]
  },
  {
   "cell_type": "markdown",
   "metadata": {},
   "source": [
    "##### sorelle saperia"
   ]
  },
  {
   "cell_type": "code",
   "execution_count": null,
   "metadata": {},
   "outputs": [],
   "source": [
    "June 2021"
   ]
  },
  {
   "cell_type": "markdown",
   "metadata": {},
   "source": [
    "we will look at a dataset of entries for bikes rented out and try to create a model to predict number of bikes people rented in a given hour. the dataset has diff info for that hr incl the temperature month year and season etc"
   ]
  },
  {
   "cell_type": "code",
   "execution_count": 68,
   "metadata": {},
   "outputs": [],
   "source": [
    "import pandas as pd\n",
    "import numpy as np\n",
    "import matplotlib.pyplot as plt\n",
    "from sklearn.model_selection import train_test_split\n",
    "from sklearn.linear_model import LinearRegression\n",
    "from sklearn.metrics import mean_squared_error\n",
    "from sklearn.tree import DecisionTreeRegressor\n",
    "from sklearn.ensemble import RandomForestRegressor\n",
    "from sklearn.metrics import roc_auc_score\n",
    "import xgboost as xgb\n",
    "from sklearn.model_selection import GridSearchCV\n",
    "%matplotlib inline\n",
    "np.random.seed(42)"
   ]
  },
  {
   "cell_type": "code",
   "execution_count": 2,
   "metadata": {},
   "outputs": [],
   "source": [
    "bike_rentals=pd.read_csv('bike rentals.csv')"
   ]
  },
  {
   "cell_type": "code",
   "execution_count": 3,
   "metadata": {
    "collapsed": false,
    "jupyter": {
     "outputs_hidden": false
    }
   },
   "outputs": [
    {
     "data": {
      "text/html": [
       "<div>\n",
       "<style scoped>\n",
       "    .dataframe tbody tr th:only-of-type {\n",
       "        vertical-align: middle;\n",
       "    }\n",
       "\n",
       "    .dataframe tbody tr th {\n",
       "        vertical-align: top;\n",
       "    }\n",
       "\n",
       "    .dataframe thead th {\n",
       "        text-align: right;\n",
       "    }\n",
       "</style>\n",
       "<table border=\"1\" class=\"dataframe\">\n",
       "  <thead>\n",
       "    <tr style=\"text-align: right;\">\n",
       "      <th></th>\n",
       "      <th>instant</th>\n",
       "      <th>dteday</th>\n",
       "      <th>season</th>\n",
       "      <th>yr</th>\n",
       "      <th>mnth</th>\n",
       "      <th>hr</th>\n",
       "      <th>holiday</th>\n",
       "      <th>weekday</th>\n",
       "      <th>workingday</th>\n",
       "      <th>weathersit</th>\n",
       "      <th>temp</th>\n",
       "      <th>atemp</th>\n",
       "      <th>hum</th>\n",
       "      <th>windspeed</th>\n",
       "      <th>casual</th>\n",
       "      <th>registered</th>\n",
       "      <th>cnt</th>\n",
       "    </tr>\n",
       "  </thead>\n",
       "  <tbody>\n",
       "    <tr>\n",
       "      <th>0</th>\n",
       "      <td>1</td>\n",
       "      <td>1/1/2011</td>\n",
       "      <td>1</td>\n",
       "      <td>0</td>\n",
       "      <td>1</td>\n",
       "      <td>0</td>\n",
       "      <td>0</td>\n",
       "      <td>6</td>\n",
       "      <td>0</td>\n",
       "      <td>1</td>\n",
       "      <td>0.24</td>\n",
       "      <td>0.2879</td>\n",
       "      <td>0.81</td>\n",
       "      <td>0.0</td>\n",
       "      <td>3</td>\n",
       "      <td>13</td>\n",
       "      <td>16</td>\n",
       "    </tr>\n",
       "    <tr>\n",
       "      <th>1</th>\n",
       "      <td>2</td>\n",
       "      <td>1/1/2011</td>\n",
       "      <td>1</td>\n",
       "      <td>0</td>\n",
       "      <td>1</td>\n",
       "      <td>1</td>\n",
       "      <td>0</td>\n",
       "      <td>6</td>\n",
       "      <td>0</td>\n",
       "      <td>1</td>\n",
       "      <td>0.22</td>\n",
       "      <td>0.2727</td>\n",
       "      <td>0.80</td>\n",
       "      <td>0.0</td>\n",
       "      <td>8</td>\n",
       "      <td>32</td>\n",
       "      <td>40</td>\n",
       "    </tr>\n",
       "    <tr>\n",
       "      <th>2</th>\n",
       "      <td>3</td>\n",
       "      <td>1/1/2011</td>\n",
       "      <td>1</td>\n",
       "      <td>0</td>\n",
       "      <td>1</td>\n",
       "      <td>2</td>\n",
       "      <td>0</td>\n",
       "      <td>6</td>\n",
       "      <td>0</td>\n",
       "      <td>1</td>\n",
       "      <td>0.22</td>\n",
       "      <td>0.2727</td>\n",
       "      <td>0.80</td>\n",
       "      <td>0.0</td>\n",
       "      <td>5</td>\n",
       "      <td>27</td>\n",
       "      <td>32</td>\n",
       "    </tr>\n",
       "    <tr>\n",
       "      <th>3</th>\n",
       "      <td>4</td>\n",
       "      <td>1/1/2011</td>\n",
       "      <td>1</td>\n",
       "      <td>0</td>\n",
       "      <td>1</td>\n",
       "      <td>3</td>\n",
       "      <td>0</td>\n",
       "      <td>6</td>\n",
       "      <td>0</td>\n",
       "      <td>1</td>\n",
       "      <td>0.24</td>\n",
       "      <td>0.2879</td>\n",
       "      <td>0.75</td>\n",
       "      <td>0.0</td>\n",
       "      <td>3</td>\n",
       "      <td>10</td>\n",
       "      <td>13</td>\n",
       "    </tr>\n",
       "    <tr>\n",
       "      <th>4</th>\n",
       "      <td>5</td>\n",
       "      <td>1/1/2011</td>\n",
       "      <td>1</td>\n",
       "      <td>0</td>\n",
       "      <td>1</td>\n",
       "      <td>4</td>\n",
       "      <td>0</td>\n",
       "      <td>6</td>\n",
       "      <td>0</td>\n",
       "      <td>1</td>\n",
       "      <td>0.24</td>\n",
       "      <td>0.2879</td>\n",
       "      <td>0.75</td>\n",
       "      <td>0.0</td>\n",
       "      <td>0</td>\n",
       "      <td>1</td>\n",
       "      <td>1</td>\n",
       "    </tr>\n",
       "  </tbody>\n",
       "</table>\n",
       "</div>"
      ],
      "text/plain": [
       "   instant    dteday  season  yr  mnth  hr  holiday  weekday  workingday  \\\n",
       "0        1  1/1/2011       1   0     1   0        0        6           0   \n",
       "1        2  1/1/2011       1   0     1   1        0        6           0   \n",
       "2        3  1/1/2011       1   0     1   2        0        6           0   \n",
       "3        4  1/1/2011       1   0     1   3        0        6           0   \n",
       "4        5  1/1/2011       1   0     1   4        0        6           0   \n",
       "\n",
       "   weathersit  temp   atemp   hum  windspeed  casual  registered  cnt  \n",
       "0           1  0.24  0.2879  0.81        0.0       3          13   16  \n",
       "1           1  0.22  0.2727  0.80        0.0       8          32   40  \n",
       "2           1  0.22  0.2727  0.80        0.0       5          27   32  \n",
       "3           1  0.24  0.2879  0.75        0.0       3          10   13  \n",
       "4           1  0.24  0.2879  0.75        0.0       0           1    1  "
      ]
     },
     "execution_count": 3,
     "metadata": {},
     "output_type": "execute_result"
    }
   ],
   "source": [
    "#veiwing data\n",
    "bike_rentals.head()"
   ]
  },
  {
   "cell_type": "code",
   "execution_count": 4,
   "metadata": {},
   "outputs": [
    {
     "data": {
      "text/plain": [
       "instant       0\n",
       "dteday        0\n",
       "season        0\n",
       "yr            0\n",
       "mnth          0\n",
       "hr            0\n",
       "holiday       0\n",
       "weekday       0\n",
       "workingday    0\n",
       "weathersit    0\n",
       "temp          0\n",
       "atemp         0\n",
       "hum           0\n",
       "windspeed     0\n",
       "casual        0\n",
       "registered    0\n",
       "cnt           0\n",
       "dtype: int64"
      ]
     },
     "execution_count": 4,
     "metadata": {},
     "output_type": "execute_result"
    }
   ],
   "source": [
    "bike_rentals.isnull().sum()"
   ]
  },
  {
   "cell_type": "code",
   "execution_count": 5,
   "metadata": {
    "collapsed": false,
    "jupyter": {
     "outputs_hidden": false
    }
   },
   "outputs": [
    {
     "data": {
      "text/plain": [
       "(17379, 17)"
      ]
     },
     "execution_count": 5,
     "metadata": {},
     "output_type": "execute_result"
    }
   ],
   "source": [
    "bike_rentals.shape"
   ]
  },
  {
   "cell_type": "code",
   "execution_count": 6,
   "metadata": {
    "collapsed": false,
    "jupyter": {
     "outputs_hidden": false
    }
   },
   "outputs": [
    {
     "data": {
      "text/plain": [
       "array([[<matplotlib.axes._subplots.AxesSubplot object at 0x000001C381945B20>]],\n",
       "      dtype=object)"
      ]
     },
     "execution_count": 6,
     "metadata": {},
     "output_type": "execute_result"
    },
    {
     "data": {
      "image/png": "[encoded data removed]",
      "text/plain": [
       "<Figure size 432x288 with 1 Axes>"
      ]
     },
     "metadata": {
      "needs_background": "light"
     },
     "output_type": "display_data"
    }
   ],
   "source": [
    "#viewing the values for the cnt column\n",
    "bike_rentals.hist('cnt')"
   ]
  },
  {
   "cell_type": "markdown",
   "metadata": {},
   "source": [
    "we see the distribution here most of values fall at lower no. of bike_rentals gradually getting less as get to higher counts. a bit weighted to the lower side"
   ]
  },
  {
   "cell_type": "code",
   "execution_count": 7,
   "metadata": {
    "collapsed": false,
    "jupyter": {
     "outputs_hidden": false
    }
   },
   "outputs": [
    {
     "data": {
      "text/html": [
       "<div>\n",
       "<style scoped>\n",
       "    .dataframe tbody tr th:only-of-type {\n",
       "        vertical-align: middle;\n",
       "    }\n",
       "\n",
       "    .dataframe tbody tr th {\n",
       "        vertical-align: top;\n",
       "    }\n",
       "\n",
       "    .dataframe thead th {\n",
       "        text-align: right;\n",
       "    }\n",
       "</style>\n",
       "<table border=\"1\" class=\"dataframe\">\n",
       "  <thead>\n",
       "    <tr style=\"text-align: right;\">\n",
       "      <th></th>\n",
       "      <th>cnt</th>\n",
       "    </tr>\n",
       "  </thead>\n",
       "  <tbody>\n",
       "    <tr>\n",
       "      <th>instant</th>\n",
       "      <td>0.278379</td>\n",
       "    </tr>\n",
       "    <tr>\n",
       "      <th>season</th>\n",
       "      <td>0.178056</td>\n",
       "    </tr>\n",
       "    <tr>\n",
       "      <th>yr</th>\n",
       "      <td>0.250495</td>\n",
       "    </tr>\n",
       "    <tr>\n",
       "      <th>mnth</th>\n",
       "      <td>0.120638</td>\n",
       "    </tr>\n",
       "    <tr>\n",
       "      <th>hr</th>\n",
       "      <td>0.394071</td>\n",
       "    </tr>\n",
       "    <tr>\n",
       "      <th>holiday</th>\n",
       "      <td>-0.030927</td>\n",
       "    </tr>\n",
       "    <tr>\n",
       "      <th>weekday</th>\n",
       "      <td>0.026900</td>\n",
       "    </tr>\n",
       "    <tr>\n",
       "      <th>workingday</th>\n",
       "      <td>0.030284</td>\n",
       "    </tr>\n",
       "    <tr>\n",
       "      <th>weathersit</th>\n",
       "      <td>-0.142426</td>\n",
       "    </tr>\n",
       "    <tr>\n",
       "      <th>temp</th>\n",
       "      <td>0.404772</td>\n",
       "    </tr>\n",
       "    <tr>\n",
       "      <th>atemp</th>\n",
       "      <td>0.400929</td>\n",
       "    </tr>\n",
       "    <tr>\n",
       "      <th>hum</th>\n",
       "      <td>-0.322911</td>\n",
       "    </tr>\n",
       "    <tr>\n",
       "      <th>windspeed</th>\n",
       "      <td>0.093234</td>\n",
       "    </tr>\n",
       "    <tr>\n",
       "      <th>casual</th>\n",
       "      <td>0.694564</td>\n",
       "    </tr>\n",
       "    <tr>\n",
       "      <th>registered</th>\n",
       "      <td>0.972151</td>\n",
       "    </tr>\n",
       "    <tr>\n",
       "      <th>cnt</th>\n",
       "      <td>1.000000</td>\n",
       "    </tr>\n",
       "  </tbody>\n",
       "</table>\n",
       "</div>"
      ],
      "text/plain": [
       "                 cnt\n",
       "instant     0.278379\n",
       "season      0.178056\n",
       "yr          0.250495\n",
       "mnth        0.120638\n",
       "hr          0.394071\n",
       "holiday    -0.030927\n",
       "weekday     0.026900\n",
       "workingday  0.030284\n",
       "weathersit -0.142426\n",
       "temp        0.404772\n",
       "atemp       0.400929\n",
       "hum        -0.322911\n",
       "windspeed   0.093234\n",
       "casual      0.694564\n",
       "registered  0.972151\n",
       "cnt         1.000000"
      ]
     },
     "execution_count": 7,
     "metadata": {},
     "output_type": "execute_result"
    }
   ],
   "source": [
    "#look at correlation between 'cnt' and the other columns to see which ones should be used as features for our model\n",
    "bike_rentals.corr()[['cnt']]"
   ]
  },
  {
   "cell_type": "code",
   "execution_count": 8,
   "metadata": {},
   "outputs": [],
   "source": [
    "corr=bike_rentals.corr()"
   ]
  },
  {
   "cell_type": "code",
   "execution_count": 9,
   "metadata": {
    "collapsed": false,
    "jupyter": {
     "outputs_hidden": false
    }
   },
   "outputs": [
    {
     "data": {
      "text/plain": [
       "<matplotlib.axes._subplots.AxesSubplot at 0x1c382540610>"
      ]
     },
     "execution_count": 9,
     "metadata": {},
     "output_type": "execute_result"
    },
    {
     "data": {
      "image/png": "[encoded data removed]",
      "text/plain": [
       "<Figure size 432x288 with 2 Axes>"
      ]
     },
     "metadata": {
      "needs_background": "light"
     },
     "output_type": "display_data"
    }
   ],
   "source": [
    "import seaborn as sns\n",
    "sns.heatmap(corr, cmap='coolwarm')"
   ]
  },
  {
   "cell_type": "markdown",
   "metadata": {},
   "source": [
    "columns 'temp' and 'atemp' have high corr with cnt, so are good features however they correlate too strongly with each other and therefore are too similar (one is based off the other) so will just use one will choose temp as it correlates very slightly better with cnt than atemp which means it may be a better feature. 'hr' correlates with cnt quite well so will use this. 'hum' which is humidity correlates next strongly and negatively with cnt so want to use it. hum correlates around  .3 negatively with hr it's not high enough to leave one of them out for the moment but is interesting to note. yr is the next highest correlation so would like to experiment with it if need more features. so for the moment choosing features temp, hr, hum, yr"
   ]
  },
  {
   "cell_type": "code",
   "execution_count": 10,
   "metadata": {
    "collapsed": false,
    "jupyter": {
     "outputs_hidden": false
    }
   },
   "outputs": [],
   "source": [
    "#changing hr to time label as sections of the day as one hr to the next is not significantly diff\n",
    "def assign_label(val):\n",
    "    if (val>=6) & (val<12):\n",
    "        return 1\n",
    "    elif (val>=12) & (val<18):\n",
    "        return 2\n",
    "    elif (val>=18) & (val<24):\n",
    "        return 3\n",
    "    elif (val>=0) and (val<6):\n",
    "        return 4\n",
    "    \n",
    "bike_rentals['time_label']=bike_rentals['hr'].apply(assign_label)  "
   ]
  },
  {
   "cell_type": "code",
   "execution_count": 11,
   "metadata": {
    "collapsed": false,
    "jupyter": {
     "outputs_hidden": false
    }
   },
   "outputs": [
    {
     "data": {
      "text/plain": [
       "2    4375\n",
       "3    4368\n",
       "1    4360\n",
       "4    4276\n",
       "Name: time_label, dtype: int64"
      ]
     },
     "execution_count": 11,
     "metadata": {},
     "output_type": "execute_result"
    }
   ],
   "source": [
    "#see values for time label\n",
    "bike_rentals['time_label'].value_counts()"
   ]
  },
  {
   "cell_type": "markdown",
   "metadata": {},
   "source": [
    "now going to look at the cnt values as this will be target column"
   ]
  },
  {
   "cell_type": "code",
   "execution_count": 12,
   "metadata": {
    "collapsed": false,
    "jupyter": {
     "outputs_hidden": false
    }
   },
   "outputs": [
    {
     "data": {
      "text/plain": [
       "5      260\n",
       "6      236\n",
       "4      231\n",
       "3      224\n",
       "2      208\n",
       "      ... \n",
       "725      1\n",
       "709      1\n",
       "661      1\n",
       "629      1\n",
       "887      1\n",
       "Name: cnt, Length: 869, dtype: int64"
      ]
     },
     "execution_count": 12,
     "metadata": {},
     "output_type": "execute_result"
    }
   ],
   "source": [
    "bike_rentals['cnt'].value_counts()"
   ]
  },
  {
   "cell_type": "markdown",
   "metadata": {},
   "source": [
    "the target column is continuous so we will need a linear regression type of model"
   ]
  },
  {
   "cell_type": "code",
   "execution_count": 13,
   "metadata": {},
   "outputs": [],
   "source": [
    "#splitting data into train and test sets\n",
    "X=bike_rentals[['temp','time_label','hum','yr']]\n",
    "y=bike_rentals['cnt']\n",
    "X_train, X_test, y_train, y_test = train_test_split(X, y)"
   ]
  },
  {
   "cell_type": "markdown",
   "metadata": {},
   "source": [
    "#### Linear Regression"
   ]
  },
  {
   "cell_type": "code",
   "execution_count": 14,
   "metadata": {
    "collapsed": false,
    "jupyter": {
     "outputs_hidden": false
    }
   },
   "outputs": [
    {
     "name": "stdout",
     "output_type": "stream",
     "text": [
      "140.8300058551144 140.6027185473735\n"
     ]
    }
   ],
   "source": [
    "#basic linear regression model\n",
    "lr = LinearRegression()\n",
    "lr.fit(X_train, y_train)\n",
    "train_predictions=lr.predict(X_train)\n",
    "test_predictions=lr.predict(X_test)\n",
    "train_mse=mean_squared_error(y_train,train_predictions)\n",
    "test_mse=mean_squared_error(y_test,test_predictions)\n",
    "train_rmse=np.sqrt(train_mse)\n",
    "test_rmse=np.sqrt(test_mse)\n",
    "print(train_rmse,test_rmse)"
   ]
  },
  {
   "cell_type": "markdown",
   "metadata": {
    "jupyter": {
     "outputs_hidden": true
    }
   },
   "source": [
    "yr seems to give better result so including that column"
   ]
  },
  {
   "cell_type": "markdown",
   "metadata": {},
   "source": [
    "trying same model with more features see if better model, season and month corr slightly with cnt so using season not trying both as corr too well with each other"
   ]
  },
  {
   "cell_type": "code",
   "execution_count": 15,
   "metadata": {
    "collapsed": false,
    "jupyter": {
     "outputs_hidden": false
    }
   },
   "outputs": [],
   "source": [
    "X=bike_rentals[['time_label','temp','hum','yr','season']]\n",
    "y=bike_rentals['cnt']\n",
    "X_train, X_test, y_train, y_test = train_test_split(X, y)"
   ]
  },
  {
   "cell_type": "code",
   "execution_count": 16,
   "metadata": {
    "collapsed": false,
    "jupyter": {
     "outputs_hidden": false
    }
   },
   "outputs": [
    {
     "name": "stdout",
     "output_type": "stream",
     "text": [
      "138.988666292349 140.13082330599167\n"
     ]
    }
   ],
   "source": [
    "lr = LinearRegression()\n",
    "lr.fit(X_train, y_train)\n",
    "train_predictions=lr.predict(X_train)\n",
    "test_predictions=lr.predict(X_test)\n",
    "train_mse=mean_squared_error(y_train,train_predictions)\n",
    "test_mse=mean_squared_error(y_test,test_predictions)\n",
    "train_rmse=np.sqrt(train_mse)\n",
    "test_rmse=np.sqrt(test_mse)\n",
    "print(train_rmse,test_rmse)"
   ]
  },
  {
   "cell_type": "markdown",
   "metadata": {},
   "source": [
    "this was a better model as rmse is lower we see it's not overfit as test and train predictions are similar"
   ]
  },
  {
   "cell_type": "markdown",
   "metadata": {},
   "source": [
    "#### Decision Tree"
   ]
  },
  {
   "cell_type": "code",
   "execution_count": 17,
   "metadata": {
    "collapsed": false,
    "jupyter": {
     "outputs_hidden": false
    }
   },
   "outputs": [
    {
     "name": "stdout",
     "output_type": "stream",
     "text": [
      "81.00990290510207 145.03445898170565\n"
     ]
    }
   ],
   "source": [
    "#now using decision tree regressor model\n",
    "dt=DecisionTreeRegressor()\n",
    "dt.fit(X_train,y_train)\n",
    "train_predictions=dt.predict(X_train)\n",
    "test_predictions=dt.predict(X_test)\n",
    "train_mse=mean_squared_error(y_train,train_predictions)\n",
    "test_mse=mean_squared_error(y_test,test_predictions)\n",
    "train_rmse=np.sqrt(train_mse)\n",
    "test_rmse=np.sqrt(test_mse)\n",
    "print(train_rmse,test_rmse)"
   ]
  },
  {
   "cell_type": "markdown",
   "metadata": {},
   "source": [
    "decision trees generally overfit we see this as rmse for train set is way lower than test set we need to prune the tree to make it less overfit"
   ]
  },
  {
   "cell_type": "code",
   "execution_count": 18,
   "metadata": {
    "collapsed": false,
    "jupyter": {
     "outputs_hidden": false
    }
   },
   "outputs": [
    {
     "name": "stdout",
     "output_type": "stream",
     "text": [
      "1 154.7337184733521 156.2945816051303\n",
      "2 142.84741742655558 143.40974025615645\n",
      "3 133.63052681308733 134.21410546244755\n",
      "4 127.6582746871275 127.76880569147535\n",
      "5 123.94946315768819 124.11160136319536\n",
      "6 121.92506001115362 123.47764269384882\n",
      "7 120.07173743667308 122.29757157886961\n",
      "8 118.11549953142392 121.51649333300132\n",
      "9 116.05046347463386 121.63780689297519\n",
      "10 113.94975092623112 121.90234425010102\n",
      "11 111.96620281034235 123.07130140773165\n",
      "12 110.02718083442556 123.48604940560229\n",
      "13 108.87861150184256 124.58658629204638\n",
      "14 107.91905915382846 125.2290171903446\n"
     ]
    }
   ],
   "source": [
    "#trying out this model with diff min sample leaf and max depth\n",
    "train_scores=[]\n",
    "test_scores=[]\n",
    "for i in  range(1,15):\n",
    "    dt=DecisionTreeRegressor(min_samples_leaf=7,max_depth=i)\n",
    "    dt.fit(X_train,y_train)\n",
    "    train_predictions=dt.predict(X_train)\n",
    "    test_predictions=dt.predict(X_test)\n",
    "    train_mse=mean_squared_error(y_train,train_predictions)\n",
    "    test_mse=mean_squared_error(y_test,test_predictions)\n",
    "    train_rmse=np.sqrt(train_mse)\n",
    "    test_rmse=np.sqrt(test_mse)\n",
    "    train_scores.append(train_rmse)\n",
    "    test_scores.append(test_rmse)\n",
    "    print(i,train_rmse,test_rmse)"
   ]
  },
  {
   "cell_type": "code",
   "execution_count": 19,
   "metadata": {
    "collapsed": false,
    "jupyter": {
     "outputs_hidden": false
    }
   },
   "outputs": [
    {
     "data": {
      "image/png": "[encoded data removed]",
      "text/plain": [
       "<Figure size 432x288 with 1 Axes>"
      ]
     },
     "metadata": {
      "needs_background": "light"
     },
     "output_type": "display_data"
    }
   ],
   "source": [
    "plt.plot(range(1, 15), train_scores, label='train')\n",
    "plt.plot(range(1, 15), test_scores, label='test')\n",
    "plt.show()"
   ]
  },
  {
   "cell_type": "markdown",
   "metadata": {},
   "source": [
    "changed the diff parameters found that min_samples_leaf=7 was very good and max depth at 7 was best at this without the train and test predictions being too diff we see that the rmse for train set and test set diverge strongly at around 7 so good value."
   ]
  },
  {
   "cell_type": "markdown",
   "metadata": {},
   "source": [
    "#### Random Forest"
   ]
  },
  {
   "cell_type": "code",
   "execution_count": 20,
   "metadata": {
    "collapsed": false,
    "jupyter": {
     "outputs_hidden": false
    }
   },
   "outputs": [
    {
     "name": "stdout",
     "output_type": "stream",
     "text": [
      "85.07379537497759 130.18074492251282\n"
     ]
    }
   ],
   "source": [
    "#basic random forest regressor model\n",
    "rf=RandomForestRegressor()\n",
    "rf.fit(X_train, y_train.values.ravel())\n",
    "train_predictions=rf.predict(X_train)\n",
    "\n",
    "test_predictions=rf.predict(X_test)\n",
    "train_mse=mean_squared_error(y_train,train_predictions)\n",
    "test_mse=mean_squared_error(y_test,test_predictions)\n",
    "train_rmse=np.sqrt(train_mse)\n",
    "test_rmse=np.sqrt(test_mse)\n",
    "print(train_rmse,test_rmse)\n"
   ]
  },
  {
   "cell_type": "markdown",
   "metadata": {},
   "source": [
    "the rmse values are too diff this model is very overfit"
   ]
  },
  {
   "cell_type": "code",
   "execution_count": 21,
   "metadata": {},
   "outputs": [
    {
     "name": "stdout",
     "output_type": "stream",
     "text": [
      "trees: 10 88.0814377262635 132.30853537247322\n",
      "trees: 20 86.03014528075502 131.14174342388716\n",
      "trees: 30 85.79606615342172 130.74692287036297\n",
      "trees: 40 85.57389375522318 130.15396036307158\n",
      "trees: 50 85.46335568397879 130.00266772403737\n",
      "trees: 60 85.33758707984147 129.92734981114188\n",
      "trees: 70 85.27545161452798 130.0352361214927\n",
      "trees: 80 85.11068642297951 130.157037476606\n",
      "trees: 90 85.08684582674708 130.39692703363875\n"
     ]
    }
   ],
   "source": [
    "#looking at what the change in number of trees in this model is doing\n",
    "for i in range(10,100,10):\n",
    "        rf=RandomForestRegressor(n_estimators=i)\n",
    "        rf.fit(X_train, y_train.values.ravel())\n",
    "        train_predictions=rf.predict(X_train)\n",
    "\n",
    "        test_predictions=rf.predict(X_test)\n",
    "        train_mse=mean_squared_error(y_train,train_predictions)\n",
    "        test_mse=mean_squared_error(y_test,test_predictions)\n",
    "        train_rmse=np.sqrt(train_mse)\n",
    "        test_rmse=np.sqrt(test_mse)\n",
    "        print('trees:',i,train_rmse,test_rmse)"
   ]
  },
  {
   "cell_type": "code",
   "execution_count": 22,
   "metadata": {},
   "outputs": [],
   "source": [
    "#choosing 30 trees as more trees is not making too much diff here unless use very few trees which may be not good will play with other parameters to tweak it now"
   ]
  },
  {
   "cell_type": "code",
   "execution_count": 65,
   "metadata": {},
   "outputs": [
    {
     "name": "stdout",
     "output_type": "stream",
     "text": [
      "1 154.73394458458793 156.2883665583233\n",
      "2 141.98046471671216 142.6528581084446\n",
      "3 132.6367776681174 133.30704266781697\n",
      "4 125.8554321737535 126.02929606316913\n",
      "5 122.8115924586435 123.09234375387817\n",
      "6 120.70506224342603 121.81099710722623\n",
      "7 118.08142941904667 120.03148123500134\n",
      "8 115.70490534799798 119.0738944225187\n",
      "9 112.8432830124474 118.60876037167849\n",
      "10 109.3906669758753 118.48142185465771\n",
      "11 105.65805202409548 118.97083532708831\n",
      "12 101.71309607040368 120.41770952754105\n",
      "13 97.99164135612689 121.47240576242737\n",
      "14 94.61981551409269 123.40363556255784\n",
      "15 91.63163838847149 124.6636640645512\n",
      "16 89.67773286443419 125.9804805647518\n"
     ]
    }
   ],
   "source": [
    "#for a range of max depths looking at the rmse for the model\n",
    "train_scores=[]\n",
    "test_scores=[]\n",
    "for e in range(1,17):\n",
    "        rf=RandomForestRegressor(n_estimators=30,max_depth=e)\n",
    "        rf.fit(X_train, y_train.values.ravel())\n",
    "        train_predictions=rf.predict(X_train)\n",
    "\n",
    "        test_predictions=rf.predict(X_test)\n",
    "        train_mse=mean_squared_error(y_train,train_predictions)\n",
    "        test_mse=mean_squared_error(y_test,test_predictions)\n",
    "        train_rmse=np.sqrt(train_mse)\n",
    "        test_rmse=np.sqrt(test_mse)\n",
    "        train_scores.append(train_rmse)\n",
    "        test_scores.append(test_rmse)\n",
    "        print(e,train_rmse,test_rmse)"
   ]
  },
  {
   "cell_type": "markdown",
   "metadata": {},
   "source": [
    "max depth of 7 seems best as after that model seems to get too 'good' for train set compared to test set which is overfitting so using max depth of 7"
   ]
  },
  {
   "cell_type": "code",
   "execution_count": 59,
   "metadata": {},
   "outputs": [
    {
     "name": "stdout",
     "output_type": "stream",
     "text": [
      "2 118.24282627971311 119.96801847455518\n",
      "42 118.8630314558638 120.08443225669829\n",
      "82 119.80519717598925 120.69714944250643\n",
      "122 120.68388602634845 121.34488892957476\n",
      "162 121.46623882196644 121.9296287134494\n",
      "202 122.07115609947626 122.34167910433254\n",
      "242 122.78579724490237 122.8209385524979\n",
      "282 123.71915618278288 123.82067461978991\n",
      "322 124.18895064694873 124.36860248076783\n",
      "362 124.87370936902767 125.18267150523899\n"
     ]
    }
   ],
   "source": [
    "#min_samples_leaf parameters check out diff values see if improves with the above model\n",
    "train_scores=[]\n",
    "test_scores=[]\n",
    "for e in range(2,400,40):\n",
    "        rf=RandomForestRegressor(n_estimators=30,max_depth=7,min_samples_leaf=e)\n",
    "        rf.fit(X_train, y_train.values.ravel())\n",
    "        train_predictions=rf.predict(X_train)\n",
    "\n",
    "        test_predictions=rf.predict(X_test)\n",
    "        train_mse=mean_squared_error(y_train,train_predictions)\n",
    "        test_mse=mean_squared_error(y_test,test_predictions)\n",
    "        train_rmse=np.sqrt(train_mse)\n",
    "        test_rmse=np.sqrt(test_mse)\n",
    "        train_scores.append(train_rmse)\n",
    "        test_scores.append(test_rmse)\n",
    "        print(e,train_rmse,test_rmse)"
   ]
  },
  {
   "cell_type": "markdown",
   "metadata": {},
   "source": [
    "none of these are much better than the model before so will not use min_sample_leaf"
   ]
  },
  {
   "cell_type": "code",
   "execution_count": 60,
   "metadata": {},
   "outputs": [
    {
     "name": "stdout",
     "output_type": "stream",
     "text": [
      "118.29473489866393 120.1803474999824\n"
     ]
    }
   ],
   "source": [
    "# my best model is so far:\n",
    "rf=RandomForestRegressor(n_estimators=30,max_depth=7)\n",
    "rf.fit(X_train, y_train.values.ravel())\n",
    "train_predictions=rf.predict(X_train)\n",
    "\n",
    "test_predictions=rf.predict(X_test)\n",
    "train_mse=mean_squared_error(y_train,train_predictions)\n",
    "test_mse=mean_squared_error(y_test,test_predictions)\n",
    "train_rmse=np.sqrt(train_mse)\n",
    "test_rmse=np.sqrt(test_mse)\n",
    "train_scores.append(train_rmse)\n",
    "test_scores.append(test_rmse)\n",
    "print(train_rmse,test_rmse)"
   ]
  },
  {
   "cell_type": "markdown",
   "metadata": {},
   "source": [
    "the error doesn't seem too far to be overfit and the accuracy seems quite good as has low rmse which means that the error of the predictions is low only about 120 out and the values range from 0 to 1000. I am tweaking it now by trying bagging with bootstrap=true and see what the errors are"
   ]
  },
  {
   "cell_type": "code",
   "execution_count": null,
   "metadata": {},
   "outputs": [],
   "source": [
    "rf=RandomForestRegressor(n_estimators=30,max_depth=7,bootstrap=True)\n",
    "rf.fit(X_train, y_train.values.ravel())\n",
    "train_predictions=rf.predict(X_train)\n",
    "\n",
    "test_predictions=rf.predict(X_test)\n",
    "train_mse=mean_squared_error(y_train,train_predictions)\n",
    "test_mse=mean_squared_error(y_test,test_predictions)\n",
    "train_rmse=np.sqrt(train_mse)\n",
    "test_rmse=np.sqrt(test_mse)\n",
    "train_scores.append(train_rmse)\n",
    "test_scores.append(test_rmse)\n",
    "print(train_rmse,test_rmse)"
   ]
  },
  {
   "cell_type": "markdown",
   "metadata": {},
   "source": [
    "went down very slightly with bootstrap"
   ]
  },
  {
   "cell_type": "markdown",
   "metadata": {},
   "source": [
    "#### XGBoost"
   ]
  },
  {
   "cell_type": "code",
   "execution_count": 61,
   "metadata": {},
   "outputs": [
    {
     "name": "stdout",
     "output_type": "stream",
     "text": [
      "1 169.03434458476312 171.77188229140674\n",
      "2 158.0807231910511 160.4445494466238\n",
      "3 152.03840337992511 154.10331441627523\n",
      "4 148.3902455964026 150.83527611675441\n",
      "5 146.18751139399282 148.40793288032458\n",
      "6 144.59091247948126 147.37981343001934\n",
      "7 143.12729951907068 146.20559408949464\n",
      "8 141.86297742545491 145.88917306906646\n",
      "9 140.46022028285373 145.57607069425666\n"
     ]
    }
   ],
   "source": [
    "#looking at diff max depths\n",
    "for each in range(1,10):\n",
    "    model=xgb.XGBRegressor(\n",
    "            max_depth= each,\n",
    "            n_estimators=3)\n",
    "    model.fit(X_train,y_train)\n",
    "    train_predictions=model.predict(X_train)\n",
    "    test_predictions=model.predict(X_test)\n",
    "    train_mse=mean_squared_error(y_train,train_predictions)\n",
    "    test_mse=mean_squared_error(y_test,test_predictions)\n",
    "    train_rmse=np.sqrt(train_mse)\n",
    "    test_rmse=np.sqrt(test_mse)\n",
    "    train_scores.append(train_rmse)\n",
    "    test_scores.append(test_rmse)\n",
    "    print(each,train_rmse,test_rmse)\n"
   ]
  },
  {
   "cell_type": "markdown",
   "metadata": {},
   "source": [
    "7 for max depth seems best here so will use that"
   ]
  },
  {
   "cell_type": "code",
   "execution_count": 49,
   "metadata": {},
   "outputs": [
    {
     "name": "stdout",
     "output_type": "stream",
     "text": [
      "0 260.8438844052312 265.15606549331306\n",
      "5 123.56169048208177 126.79265230624203\n",
      "10 114.40527883555399 119.00301056106129\n",
      "15 111.52401908019594 118.53305941970909\n",
      "20 110.11639047967546 118.60268823993144\n",
      "25 108.63185957109627 119.08159977742852\n",
      "30 107.64069663830438 119.34166374621398\n",
      "35 106.79750726505698 119.55435123374463\n",
      "40 106.26303928526758 119.69718364512315\n",
      "45 105.21230113722346 120.01207904698877\n",
      "50 104.41175163774186 120.19481568068672\n",
      "55 103.42781012927713 120.46814851566687\n",
      "60 102.88949810770961 120.48784377564355\n",
      "65 101.83999234056407 120.97673976714061\n",
      "70 101.21332470707215 121.21726892234457\n",
      "75 100.51309873663575 121.56313078841079\n",
      "80 99.81959081050898 122.05828133922805\n",
      "85 99.40498255963564 122.40685562973687\n",
      "90 98.80526653517205 122.50934598069958\n",
      "95 98.37364040374271 122.79557308455601\n"
     ]
    }
   ],
   "source": [
    "for each in range(0,100,5):\n",
    "    model=xgb.XGBRegressor(\n",
    "            max_depth= 7,\n",
    "            n_estimators=each)\n",
    "    model.fit(X_train,y_train)\n",
    "    train_predictions=model.predict(X_train)\n",
    "    test_predictions=model.predict(X_test)\n",
    "    train_mse=mean_squared_error(y_train,train_predictions)\n",
    "    test_mse=mean_squared_error(y_test,test_predictions)\n",
    "    train_rmse=np.sqrt(train_mse)\n",
    "    test_rmse=np.sqrt(test_mse)\n",
    "    train_scores.append(train_rmse)\n",
    "    test_scores.append(test_rmse)\n",
    "    print(each,train_rmse,test_rmse)"
   ]
  },
  {
   "cell_type": "markdown",
   "metadata": {},
   "source": [
    "i will use 10 trees as that is where the rmses are still somewhat close and also low"
   ]
  },
  {
   "cell_type": "code",
   "execution_count": 50,
   "metadata": {},
   "outputs": [
    {
     "name": "stdout",
     "output_type": "stream",
     "text": [
      "0.001 258.80849123780126 263.1048777829533\n",
      "0.01 241.48350898883703 245.63311450249552\n",
      "0.1 143.63925624584454 146.7813914190665\n",
      "0.3 114.40527883555399 119.00301056106129\n",
      "0.5 111.4836190654193 119.17657435331635\n",
      "0.15 125.95795878884414 129.14475863361125\n"
     ]
    }
   ],
   "source": [
    "#now will change learnign rate see what it does\n",
    "lr=[.001, .01, .1, .3, .5, .15]\n",
    "for each in lr:\n",
    "    model=xgb.XGBRegressor(\n",
    "            max_depth= 7,\n",
    "            n_estimators=10,learning_rate=each)\n",
    "    model.fit(X_train,y_train)\n",
    "    train_predictions=model.predict(X_train)\n",
    "    test_predictions=model.predict(X_test)\n",
    "    train_mse=mean_squared_error(y_train,train_predictions)\n",
    "    test_mse=mean_squared_error(y_test,test_predictions)\n",
    "    train_rmse=np.sqrt(train_mse)\n",
    "    test_rmse=np.sqrt(test_mse)\n",
    "    train_scores.append(train_rmse)\n",
    "    test_scores.append(test_rmse)\n",
    "    print(each,train_rmse,test_rmse)"
   ]
  },
  {
   "cell_type": "markdown",
   "metadata": {},
   "source": [
    "this didn't seem to help so will leave it as the results from before are better"
   ]
  },
  {
   "cell_type": "code",
   "execution_count": 52,
   "metadata": {},
   "outputs": [
    {
     "name": "stdout",
     "output_type": "stream",
     "text": [
      "gbtree 114.40527883555399 119.00301056106129\n",
      "[23:49:41] WARNING: ..\\src\\learner.cc:541: \n",
      "Parameters: { max_depth } might not be used.\n",
      "\n",
      "  This may not be accurate due to some parameters are only used in language bindings but\n",
      "  passed down to XGBoost core.  Or some parameters are not used but slip through this\n",
      "  verification. Please open an issue if you find above cases.\n",
      "\n",
      "\n",
      "gblinear 148.7207773073152 149.8729361086605\n",
      "dart 114.40527879996122 119.00301056281741\n"
     ]
    }
   ],
   "source": [
    "booster =['gbtree', 'gblinear', 'dart']\n",
    "for each in booster:\n",
    "    model=xgb.XGBRegressor(\n",
    "            max_depth= 7,\n",
    "            n_estimators=10,booster=each)\n",
    "    model.fit(X_train,y_train)\n",
    "    train_predictions=model.predict(X_train)\n",
    "    test_predictions=model.predict(X_test)\n",
    "    train_mse=mean_squared_error(y_train,train_predictions)\n",
    "    test_mse=mean_squared_error(y_test,test_predictions)\n",
    "    train_rmse=np.sqrt(train_mse)\n",
    "    test_rmse=np.sqrt(test_mse)\n",
    "    train_scores.append(train_rmse)\n",
    "    test_scores.append(test_rmse)\n",
    "    print(each,train_rmse,test_rmse)"
   ]
  },
  {
   "cell_type": "markdown",
   "metadata": {},
   "source": [
    "this didn't make it a better model dart is the same values as before so will not use this parameter"
   ]
  },
  {
   "cell_type": "markdown",
   "metadata": {},
   "source": [
    "In conclusion we're left with an xgbregressor model that has n_estimators of 10 and a max depth of 7 as the best model so far with the smallest rmses and the gap between the test and train data not being too wide, therefore not being overfit or underfit."
   ]
  },
  {
   "cell_type": "code",
   "execution_count": null,
   "metadata": {},
   "outputs": [],
   "source": []
  }
 ],
 "metadata": {
  "kernelspec": {
   "display_name": "Python 3",
   "language": "python",
   "name": "python3"
  },
  "language_info": {
   "codemirror_mode": {
    "name": "ipython",
    "version": 3
   },
   "file_extension": ".py",
   "mimetype": "text/x-python",
   "name": "python",
   "nbconvert_exporter": "python",
   "pygments_lexer": "ipython3",
   "version": "3.8.3"
  }
 },
 "nbformat": 4,
 "nbformat_minor": 4
}
